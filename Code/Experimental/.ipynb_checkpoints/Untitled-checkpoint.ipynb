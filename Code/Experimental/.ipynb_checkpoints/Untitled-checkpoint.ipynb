{
 "cells": [
  {
   "cell_type": "code",
   "execution_count": 5,
   "id": "6e2f0b54",
   "metadata": {},
   "outputs": [
    {
     "name": "stdout",
     "output_type": "stream",
     "text": [
      "[0.472, 0.445, 0.42, 0.397, 0.375, 0.354, 0.334, 0.315, 0.297, 0.281, 0.265, 0.25, 0.236, 0.223, 0.21, 0.198, 0.187, 0.177, 0.167, 0.157, 0.149, 0.14]\n"
     ]
    },
    {
     "data": {
      "text/plain": [
       "6.0489999999999995"
      ]
     },
     "execution_count": 5,
     "metadata": {},
     "output_type": "execute_result"
    }
   ],
   "source": [
    "# Get Fret Distances of a Guitar Hero Console\n",
    "\n",
    "distance = 0.5                                  # Total Lenth is 50cm\n",
    "fret_num = 18                                   # The Maximum Fret on the Neck\n",
    "fret_distances = []                             # Store Fret Distances\n",
    "RATIO = 17.817                                  # Standart Ratio\n",
    "\n",
    "for fret_index in range(fret_num):\n",
    "    distance -= distance / RATIO                # Take Fret Distance from the Total\n",
    "    formated = float(\"{:.3f}\".format(distance)) # Format to 3 Decimal Point Precision\n",
    "    fret_distances.append(formated)             # Store Distance\n",
    "    \n",
    "print(fret_distances)\n",
    "\n",
    "sum(fret_distances)\n"
   ]
  }
 ],
 "metadata": {
  "kernelspec": {
   "display_name": "Python 3 (ipykernel)",
   "language": "python",
   "name": "python3"
  },
  "language_info": {
   "codemirror_mode": {
    "name": "ipython",
    "version": 3
   },
   "file_extension": ".py",
   "mimetype": "text/x-python",
   "name": "python",
   "nbconvert_exporter": "python",
   "pygments_lexer": "ipython3",
   "version": "3.9.12"
  }
 },
 "nbformat": 4,
 "nbformat_minor": 5
}
